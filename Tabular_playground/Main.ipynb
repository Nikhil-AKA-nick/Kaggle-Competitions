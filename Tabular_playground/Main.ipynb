{
 "cells": [
  {
   "cell_type": "code",
   "execution_count": 1,
   "id": "526ae35b",
   "metadata": {},
   "outputs": [],
   "source": [
    "import pandas as pd\n",
    "import numpy as np\n",
    "import seaborn as sns"
   ]
  },
  {
   "cell_type": "code",
   "execution_count": 2,
   "id": "f636bdc4",
   "metadata": {},
   "outputs": [],
   "source": [
    "df = pd.read_csv(\"train.csv\")"
   ]
  },
  {
   "cell_type": "code",
   "execution_count": 3,
   "id": "4bed527c",
   "metadata": {},
   "outputs": [
    {
     "data": {
      "text/html": [
       "<div>\n",
       "<style scoped>\n",
       "    .dataframe tbody tr th:only-of-type {\n",
       "        vertical-align: middle;\n",
       "    }\n",
       "\n",
       "    .dataframe tbody tr th {\n",
       "        vertical-align: top;\n",
       "    }\n",
       "\n",
       "    .dataframe thead th {\n",
       "        text-align: right;\n",
       "    }\n",
       "</style>\n",
       "<table border=\"1\" class=\"dataframe\">\n",
       "  <thead>\n",
       "    <tr style=\"text-align: right;\">\n",
       "      <th></th>\n",
       "      <th>id</th>\n",
       "      <th>product_code</th>\n",
       "      <th>loading</th>\n",
       "      <th>attribute_0</th>\n",
       "      <th>attribute_1</th>\n",
       "      <th>attribute_2</th>\n",
       "      <th>attribute_3</th>\n",
       "      <th>measurement_0</th>\n",
       "      <th>measurement_1</th>\n",
       "      <th>measurement_2</th>\n",
       "      <th>...</th>\n",
       "      <th>measurement_9</th>\n",
       "      <th>measurement_10</th>\n",
       "      <th>measurement_11</th>\n",
       "      <th>measurement_12</th>\n",
       "      <th>measurement_13</th>\n",
       "      <th>measurement_14</th>\n",
       "      <th>measurement_15</th>\n",
       "      <th>measurement_16</th>\n",
       "      <th>measurement_17</th>\n",
       "      <th>failure</th>\n",
       "    </tr>\n",
       "  </thead>\n",
       "  <tbody>\n",
       "    <tr>\n",
       "      <th>0</th>\n",
       "      <td>0</td>\n",
       "      <td>A</td>\n",
       "      <td>80.10</td>\n",
       "      <td>material_7</td>\n",
       "      <td>material_8</td>\n",
       "      <td>9</td>\n",
       "      <td>5</td>\n",
       "      <td>7</td>\n",
       "      <td>8</td>\n",
       "      <td>4</td>\n",
       "      <td>...</td>\n",
       "      <td>10.672</td>\n",
       "      <td>15.859</td>\n",
       "      <td>17.594</td>\n",
       "      <td>15.193</td>\n",
       "      <td>15.029</td>\n",
       "      <td>NaN</td>\n",
       "      <td>13.034</td>\n",
       "      <td>14.684</td>\n",
       "      <td>764.100</td>\n",
       "      <td>0</td>\n",
       "    </tr>\n",
       "    <tr>\n",
       "      <th>1</th>\n",
       "      <td>1</td>\n",
       "      <td>A</td>\n",
       "      <td>84.89</td>\n",
       "      <td>material_7</td>\n",
       "      <td>material_8</td>\n",
       "      <td>9</td>\n",
       "      <td>5</td>\n",
       "      <td>14</td>\n",
       "      <td>3</td>\n",
       "      <td>3</td>\n",
       "      <td>...</td>\n",
       "      <td>12.448</td>\n",
       "      <td>17.947</td>\n",
       "      <td>17.915</td>\n",
       "      <td>11.755</td>\n",
       "      <td>14.732</td>\n",
       "      <td>15.425</td>\n",
       "      <td>14.395</td>\n",
       "      <td>15.631</td>\n",
       "      <td>682.057</td>\n",
       "      <td>0</td>\n",
       "    </tr>\n",
       "    <tr>\n",
       "      <th>2</th>\n",
       "      <td>2</td>\n",
       "      <td>A</td>\n",
       "      <td>82.43</td>\n",
       "      <td>material_7</td>\n",
       "      <td>material_8</td>\n",
       "      <td>9</td>\n",
       "      <td>5</td>\n",
       "      <td>12</td>\n",
       "      <td>1</td>\n",
       "      <td>5</td>\n",
       "      <td>...</td>\n",
       "      <td>12.715</td>\n",
       "      <td>15.607</td>\n",
       "      <td>NaN</td>\n",
       "      <td>13.798</td>\n",
       "      <td>16.711</td>\n",
       "      <td>18.631</td>\n",
       "      <td>14.094</td>\n",
       "      <td>17.946</td>\n",
       "      <td>663.376</td>\n",
       "      <td>0</td>\n",
       "    </tr>\n",
       "    <tr>\n",
       "      <th>3</th>\n",
       "      <td>3</td>\n",
       "      <td>A</td>\n",
       "      <td>101.07</td>\n",
       "      <td>material_7</td>\n",
       "      <td>material_8</td>\n",
       "      <td>9</td>\n",
       "      <td>5</td>\n",
       "      <td>13</td>\n",
       "      <td>2</td>\n",
       "      <td>6</td>\n",
       "      <td>...</td>\n",
       "      <td>12.471</td>\n",
       "      <td>16.346</td>\n",
       "      <td>18.377</td>\n",
       "      <td>10.020</td>\n",
       "      <td>15.250</td>\n",
       "      <td>15.562</td>\n",
       "      <td>16.154</td>\n",
       "      <td>17.172</td>\n",
       "      <td>826.282</td>\n",
       "      <td>0</td>\n",
       "    </tr>\n",
       "    <tr>\n",
       "      <th>4</th>\n",
       "      <td>4</td>\n",
       "      <td>A</td>\n",
       "      <td>188.06</td>\n",
       "      <td>material_7</td>\n",
       "      <td>material_8</td>\n",
       "      <td>9</td>\n",
       "      <td>5</td>\n",
       "      <td>9</td>\n",
       "      <td>2</td>\n",
       "      <td>8</td>\n",
       "      <td>...</td>\n",
       "      <td>10.337</td>\n",
       "      <td>17.082</td>\n",
       "      <td>19.932</td>\n",
       "      <td>12.428</td>\n",
       "      <td>16.182</td>\n",
       "      <td>12.760</td>\n",
       "      <td>13.153</td>\n",
       "      <td>16.412</td>\n",
       "      <td>579.885</td>\n",
       "      <td>0</td>\n",
       "    </tr>\n",
       "  </tbody>\n",
       "</table>\n",
       "<p>5 rows × 26 columns</p>\n",
       "</div>"
      ],
      "text/plain": [
       "   id product_code  loading attribute_0 attribute_1  attribute_2  attribute_3  \\\n",
       "0   0            A    80.10  material_7  material_8            9            5   \n",
       "1   1            A    84.89  material_7  material_8            9            5   \n",
       "2   2            A    82.43  material_7  material_8            9            5   \n",
       "3   3            A   101.07  material_7  material_8            9            5   \n",
       "4   4            A   188.06  material_7  material_8            9            5   \n",
       "\n",
       "   measurement_0  measurement_1  measurement_2  ...  measurement_9  \\\n",
       "0              7              8              4  ...         10.672   \n",
       "1             14              3              3  ...         12.448   \n",
       "2             12              1              5  ...         12.715   \n",
       "3             13              2              6  ...         12.471   \n",
       "4              9              2              8  ...         10.337   \n",
       "\n",
       "   measurement_10  measurement_11  measurement_12  measurement_13  \\\n",
       "0          15.859          17.594          15.193          15.029   \n",
       "1          17.947          17.915          11.755          14.732   \n",
       "2          15.607             NaN          13.798          16.711   \n",
       "3          16.346          18.377          10.020          15.250   \n",
       "4          17.082          19.932          12.428          16.182   \n",
       "\n",
       "   measurement_14  measurement_15  measurement_16  measurement_17  failure  \n",
       "0             NaN          13.034          14.684         764.100        0  \n",
       "1          15.425          14.395          15.631         682.057        0  \n",
       "2          18.631          14.094          17.946         663.376        0  \n",
       "3          15.562          16.154          17.172         826.282        0  \n",
       "4          12.760          13.153          16.412         579.885        0  \n",
       "\n",
       "[5 rows x 26 columns]"
      ]
     },
     "execution_count": 3,
     "metadata": {},
     "output_type": "execute_result"
    }
   ],
   "source": [
    "df.head()"
   ]
  },
  {
   "cell_type": "code",
   "execution_count": 4,
   "id": "fa9fcd7a",
   "metadata": {},
   "outputs": [
    {
     "data": {
      "text/plain": [
       "(26570, 26)"
      ]
     },
     "execution_count": 4,
     "metadata": {},
     "output_type": "execute_result"
    }
   ],
   "source": [
    "df.shape"
   ]
  },
  {
   "cell_type": "code",
   "execution_count": 5,
   "id": "b076db98",
   "metadata": {
    "scrolled": true
   },
   "outputs": [
    {
     "name": "stdout",
     "output_type": "stream",
     "text": [
      "<class 'pandas.core.frame.DataFrame'>\n",
      "RangeIndex: 26570 entries, 0 to 26569\n",
      "Data columns (total 26 columns):\n",
      " #   Column          Non-Null Count  Dtype  \n",
      "---  ------          --------------  -----  \n",
      " 0   id              26570 non-null  int64  \n",
      " 1   product_code    26570 non-null  object \n",
      " 2   loading         26320 non-null  float64\n",
      " 3   attribute_0     26570 non-null  object \n",
      " 4   attribute_1     26570 non-null  object \n",
      " 5   attribute_2     26570 non-null  int64  \n",
      " 6   attribute_3     26570 non-null  int64  \n",
      " 7   measurement_0   26570 non-null  int64  \n",
      " 8   measurement_1   26570 non-null  int64  \n",
      " 9   measurement_2   26570 non-null  int64  \n",
      " 10  measurement_3   26189 non-null  float64\n",
      " 11  measurement_4   26032 non-null  float64\n",
      " 12  measurement_5   25894 non-null  float64\n",
      " 13  measurement_6   25774 non-null  float64\n",
      " 14  measurement_7   25633 non-null  float64\n",
      " 15  measurement_8   25522 non-null  float64\n",
      " 16  measurement_9   25343 non-null  float64\n",
      " 17  measurement_10  25270 non-null  float64\n",
      " 18  measurement_11  25102 non-null  float64\n",
      " 19  measurement_12  24969 non-null  float64\n",
      " 20  measurement_13  24796 non-null  float64\n",
      " 21  measurement_14  24696 non-null  float64\n",
      " 22  measurement_15  24561 non-null  float64\n",
      " 23  measurement_16  24460 non-null  float64\n",
      " 24  measurement_17  24286 non-null  float64\n",
      " 25  failure         26570 non-null  int64  \n",
      "dtypes: float64(16), int64(7), object(3)\n",
      "memory usage: 5.3+ MB\n"
     ]
    }
   ],
   "source": [
    "df.info()"
   ]
  },
  {
   "cell_type": "code",
   "execution_count": 6,
   "id": "aea969d2",
   "metadata": {},
   "outputs": [
    {
     "data": {
      "text/plain": [
       "<AxesSubplot:>"
      ]
     },
     "execution_count": 6,
     "metadata": {},
     "output_type": "execute_result"
    },
    {
     "data": {
      "image/png": "[encoded data removed]",
      "text/plain": [
       "<Figure size 432x288 with 2 Axes>"
      ]
     },
     "metadata": {
      "needs_background": "light"
     },
     "output_type": "display_data"
    }
   ],
   "source": [
    "sns.heatmap(df.isnull())"
   ]
  },
  {
   "cell_type": "code",
   "execution_count": 7,
   "id": "890d550b",
   "metadata": {},
   "outputs": [],
   "source": [
    "df = df.dropna()"
   ]
  },
  {
   "cell_type": "code",
   "execution_count": 8,
   "id": "b968bda5",
   "metadata": {},
   "outputs": [
    {
     "name": "stdout",
     "output_type": "stream",
     "text": [
      "<class 'pandas.core.frame.DataFrame'>\n",
      "Int64Index: 12183 entries, 1 to 26569\n",
      "Data columns (total 26 columns):\n",
      " #   Column          Non-Null Count  Dtype  \n",
      "---  ------          --------------  -----  \n",
      " 0   id              12183 non-null  int64  \n",
      " 1   product_code    12183 non-null  object \n",
      " 2   loading         12183 non-null  float64\n",
      " 3   attribute_0     12183 non-null  object \n",
      " 4   attribute_1     12183 non-null  object \n",
      " 5   attribute_2     12183 non-null  int64  \n",
      " 6   attribute_3     12183 non-null  int64  \n",
      " 7   measurement_0   12183 non-null  int64  \n",
      " 8   measurement_1   12183 non-null  int64  \n",
      " 9   measurement_2   12183 non-null  int64  \n",
      " 10  measurement_3   12183 non-null  float64\n",
      " 11  measurement_4   12183 non-null  float64\n",
      " 12  measurement_5   12183 non-null  float64\n",
      " 13  measurement_6   12183 non-null  float64\n",
      " 14  measurement_7   12183 non-null  float64\n",
      " 15  measurement_8   12183 non-null  float64\n",
      " 16  measurement_9   12183 non-null  float64\n",
      " 17  measurement_10  12183 non-null  float64\n",
      " 18  measurement_11  12183 non-null  float64\n",
      " 19  measurement_12  12183 non-null  float64\n",
      " 20  measurement_13  12183 non-null  float64\n",
      " 21  measurement_14  12183 non-null  float64\n",
      " 22  measurement_15  12183 non-null  float64\n",
      " 23  measurement_16  12183 non-null  float64\n",
      " 24  measurement_17  12183 non-null  float64\n",
      " 25  failure         12183 non-null  int64  \n",
      "dtypes: float64(16), int64(7), object(3)\n",
      "memory usage: 2.5+ MB\n"
     ]
    }
   ],
   "source": [
    "df.info()"
   ]
  },
  {
   "cell_type": "code",
   "execution_count": 9,
   "id": "8583fdd8",
   "metadata": {},
   "outputs": [],
   "source": [
    "df = df.drop(\"id\",axis = 1)"
   ]
  },
  {
   "cell_type": "code",
   "execution_count": 10,
   "id": "b20038d6",
   "metadata": {},
   "outputs": [
    {
     "data": {
      "text/html": [
       "<div>\n",
       "<style scoped>\n",
       "    .dataframe tbody tr th:only-of-type {\n",
       "        vertical-align: middle;\n",
       "    }\n",
       "\n",
       "    .dataframe tbody tr th {\n",
       "        vertical-align: top;\n",
       "    }\n",
       "\n",
       "    .dataframe thead th {\n",
       "        text-align: right;\n",
       "    }\n",
       "</style>\n",
       "<table border=\"1\" class=\"dataframe\">\n",
       "  <thead>\n",
       "    <tr style=\"text-align: right;\">\n",
       "      <th></th>\n",
       "      <th>product_code</th>\n",
       "      <th>loading</th>\n",
       "      <th>attribute_0</th>\n",
       "      <th>attribute_1</th>\n",
       "      <th>attribute_2</th>\n",
       "      <th>attribute_3</th>\n",
       "      <th>measurement_0</th>\n",
       "      <th>measurement_1</th>\n",
       "      <th>measurement_2</th>\n",
       "      <th>measurement_3</th>\n",
       "      <th>...</th>\n",
       "      <th>measurement_9</th>\n",
       "      <th>measurement_10</th>\n",
       "      <th>measurement_11</th>\n",
       "      <th>measurement_12</th>\n",
       "      <th>measurement_13</th>\n",
       "      <th>measurement_14</th>\n",
       "      <th>measurement_15</th>\n",
       "      <th>measurement_16</th>\n",
       "      <th>measurement_17</th>\n",
       "      <th>failure</th>\n",
       "    </tr>\n",
       "  </thead>\n",
       "  <tbody>\n",
       "    <tr>\n",
       "      <th>1</th>\n",
       "      <td>A</td>\n",
       "      <td>84.89</td>\n",
       "      <td>material_7</td>\n",
       "      <td>material_8</td>\n",
       "      <td>9</td>\n",
       "      <td>5</td>\n",
       "      <td>14</td>\n",
       "      <td>3</td>\n",
       "      <td>3</td>\n",
       "      <td>18.213</td>\n",
       "      <td>...</td>\n",
       "      <td>12.448</td>\n",
       "      <td>17.947</td>\n",
       "      <td>17.915</td>\n",
       "      <td>11.755</td>\n",
       "      <td>14.732</td>\n",
       "      <td>15.425</td>\n",
       "      <td>14.395</td>\n",
       "      <td>15.631</td>\n",
       "      <td>682.057</td>\n",
       "      <td>0</td>\n",
       "    </tr>\n",
       "    <tr>\n",
       "      <th>3</th>\n",
       "      <td>A</td>\n",
       "      <td>101.07</td>\n",
       "      <td>material_7</td>\n",
       "      <td>material_8</td>\n",
       "      <td>9</td>\n",
       "      <td>5</td>\n",
       "      <td>13</td>\n",
       "      <td>2</td>\n",
       "      <td>6</td>\n",
       "      <td>17.295</td>\n",
       "      <td>...</td>\n",
       "      <td>12.471</td>\n",
       "      <td>16.346</td>\n",
       "      <td>18.377</td>\n",
       "      <td>10.020</td>\n",
       "      <td>15.250</td>\n",
       "      <td>15.562</td>\n",
       "      <td>16.154</td>\n",
       "      <td>17.172</td>\n",
       "      <td>826.282</td>\n",
       "      <td>0</td>\n",
       "    </tr>\n",
       "    <tr>\n",
       "      <th>4</th>\n",
       "      <td>A</td>\n",
       "      <td>188.06</td>\n",
       "      <td>material_7</td>\n",
       "      <td>material_8</td>\n",
       "      <td>9</td>\n",
       "      <td>5</td>\n",
       "      <td>9</td>\n",
       "      <td>2</td>\n",
       "      <td>8</td>\n",
       "      <td>19.346</td>\n",
       "      <td>...</td>\n",
       "      <td>10.337</td>\n",
       "      <td>17.082</td>\n",
       "      <td>19.932</td>\n",
       "      <td>12.428</td>\n",
       "      <td>16.182</td>\n",
       "      <td>12.760</td>\n",
       "      <td>13.153</td>\n",
       "      <td>16.412</td>\n",
       "      <td>579.885</td>\n",
       "      <td>0</td>\n",
       "    </tr>\n",
       "    <tr>\n",
       "      <th>7</th>\n",
       "      <td>A</td>\n",
       "      <td>177.92</td>\n",
       "      <td>material_7</td>\n",
       "      <td>material_8</td>\n",
       "      <td>9</td>\n",
       "      <td>5</td>\n",
       "      <td>4</td>\n",
       "      <td>8</td>\n",
       "      <td>8</td>\n",
       "      <td>17.062</td>\n",
       "      <td>...</td>\n",
       "      <td>10.254</td>\n",
       "      <td>16.449</td>\n",
       "      <td>20.478</td>\n",
       "      <td>12.207</td>\n",
       "      <td>15.624</td>\n",
       "      <td>16.968</td>\n",
       "      <td>15.176</td>\n",
       "      <td>17.231</td>\n",
       "      <td>684.000</td>\n",
       "      <td>1</td>\n",
       "    </tr>\n",
       "    <tr>\n",
       "      <th>11</th>\n",
       "      <td>A</td>\n",
       "      <td>175.38</td>\n",
       "      <td>material_7</td>\n",
       "      <td>material_8</td>\n",
       "      <td>9</td>\n",
       "      <td>5</td>\n",
       "      <td>7</td>\n",
       "      <td>3</td>\n",
       "      <td>2</td>\n",
       "      <td>17.029</td>\n",
       "      <td>...</td>\n",
       "      <td>11.309</td>\n",
       "      <td>16.310</td>\n",
       "      <td>18.959</td>\n",
       "      <td>11.520</td>\n",
       "      <td>14.659</td>\n",
       "      <td>15.355</td>\n",
       "      <td>15.175</td>\n",
       "      <td>15.829</td>\n",
       "      <td>792.591</td>\n",
       "      <td>1</td>\n",
       "    </tr>\n",
       "  </tbody>\n",
       "</table>\n",
       "<p>5 rows × 25 columns</p>\n",
       "</div>"
      ],
      "text/plain": [
       "   product_code  loading attribute_0 attribute_1  attribute_2  attribute_3  \\\n",
       "1             A    84.89  material_7  material_8            9            5   \n",
       "3             A   101.07  material_7  material_8            9            5   \n",
       "4             A   188.06  material_7  material_8            9            5   \n",
       "7             A   177.92  material_7  material_8            9            5   \n",
       "11            A   175.38  material_7  material_8            9            5   \n",
       "\n",
       "    measurement_0  measurement_1  measurement_2  measurement_3  ...  \\\n",
       "1              14              3              3         18.213  ...   \n",
       "3              13              2              6         17.295  ...   \n",
       "4               9              2              8         19.346  ...   \n",
       "7               4              8              8         17.062  ...   \n",
       "11              7              3              2         17.029  ...   \n",
       "\n",
       "    measurement_9  measurement_10  measurement_11  measurement_12  \\\n",
       "1          12.448          17.947          17.915          11.755   \n",
       "3          12.471          16.346          18.377          10.020   \n",
       "4          10.337          17.082          19.932          12.428   \n",
       "7          10.254          16.449          20.478          12.207   \n",
       "11         11.309          16.310          18.959          11.520   \n",
       "\n",
       "    measurement_13  measurement_14  measurement_15  measurement_16  \\\n",
       "1           14.732          15.425          14.395          15.631   \n",
       "3           15.250          15.562          16.154          17.172   \n",
       "4           16.182          12.760          13.153          16.412   \n",
       "7           15.624          16.968          15.176          17.231   \n",
       "11          14.659          15.355          15.175          15.829   \n",
       "\n",
       "    measurement_17  failure  \n",
       "1          682.057        0  \n",
       "3          826.282        0  \n",
       "4          579.885        0  \n",
       "7          684.000        1  \n",
       "11         792.591        1  \n",
       "\n",
       "[5 rows x 25 columns]"
      ]
     },
     "execution_count": 10,
     "metadata": {},
     "output_type": "execute_result"
    }
   ],
   "source": [
    "df.head()"
   ]
  },
  {
   "cell_type": "code",
   "execution_count": 11,
   "id": "6453818b",
   "metadata": {},
   "outputs": [
    {
     "data": {
      "text/plain": [
       "array(['A', 'B', 'C', 'D', 'E'], dtype=object)"
      ]
     },
     "execution_count": 11,
     "metadata": {},
     "output_type": "execute_result"
    }
   ],
   "source": [
    "df.product_code.unique()"
   ]
  },
  {
   "cell_type": "code",
   "execution_count": 12,
   "id": "4887b09e",
   "metadata": {},
   "outputs": [
    {
     "data": {
      "text/plain": [
       "array(['material_7', 'material_5'], dtype=object)"
      ]
     },
     "execution_count": 12,
     "metadata": {},
     "output_type": "execute_result"
    }
   ],
   "source": [
    "df.attribute_0.unique()"
   ]
  },
  {
   "cell_type": "code",
   "execution_count": 13,
   "id": "bb6994aa",
   "metadata": {},
   "outputs": [
    {
     "data": {
      "text/plain": [
       "array(['material_8', 'material_5', 'material_6'], dtype=object)"
      ]
     },
     "execution_count": 13,
     "metadata": {},
     "output_type": "execute_result"
    }
   ],
   "source": [
    "df.attribute_1.unique()"
   ]
  },
  {
   "cell_type": "code",
   "execution_count": 14,
   "id": "74e16d89",
   "metadata": {},
   "outputs": [],
   "source": [
    "from sklearn.preprocessing import LabelEncoder"
   ]
  },
  {
   "cell_type": "code",
   "execution_count": 15,
   "id": "40ddf29d",
   "metadata": {},
   "outputs": [],
   "source": [
    "le = LabelEncoder()"
   ]
  },
  {
   "cell_type": "code",
   "execution_count": 16,
   "id": "eb585e4f",
   "metadata": {},
   "outputs": [],
   "source": [
    "df[\"product_code\"] = le.fit_transform(df[\"product_code\"])"
   ]
  },
  {
   "cell_type": "code",
   "execution_count": 17,
   "id": "b29517ff",
   "metadata": {},
   "outputs": [],
   "source": [
    "df[\"attribute_0\"] = le.fit_transform(df[\"attribute_0\"])\n",
    "df[\"attribute_1\"] = le.fit_transform(df[\"attribute_1\"])"
   ]
  },
  {
   "cell_type": "code",
   "execution_count": 18,
   "id": "5a43f32a",
   "metadata": {},
   "outputs": [
    {
     "name": "stdout",
     "output_type": "stream",
     "text": [
      "<class 'pandas.core.frame.DataFrame'>\n",
      "Int64Index: 12183 entries, 1 to 26569\n",
      "Data columns (total 25 columns):\n",
      " #   Column          Non-Null Count  Dtype  \n",
      "---  ------          --------------  -----  \n",
      " 0   product_code    12183 non-null  int32  \n",
      " 1   loading         12183 non-null  float64\n",
      " 2   attribute_0     12183 non-null  int32  \n",
      " 3   attribute_1     12183 non-null  int32  \n",
      " 4   attribute_2     12183 non-null  int64  \n",
      " 5   attribute_3     12183 non-null  int64  \n",
      " 6   measurement_0   12183 non-null  int64  \n",
      " 7   measurement_1   12183 non-null  int64  \n",
      " 8   measurement_2   12183 non-null  int64  \n",
      " 9   measurement_3   12183 non-null  float64\n",
      " 10  measurement_4   12183 non-null  float64\n",
      " 11  measurement_5   12183 non-null  float64\n",
      " 12  measurement_6   12183 non-null  float64\n",
      " 13  measurement_7   12183 non-null  float64\n",
      " 14  measurement_8   12183 non-null  float64\n",
      " 15  measurement_9   12183 non-null  float64\n",
      " 16  measurement_10  12183 non-null  float64\n",
      " 17  measurement_11  12183 non-null  float64\n",
      " 18  measurement_12  12183 non-null  float64\n",
      " 19  measurement_13  12183 non-null  float64\n",
      " 20  measurement_14  12183 non-null  float64\n",
      " 21  measurement_15  12183 non-null  float64\n",
      " 22  measurement_16  12183 non-null  float64\n",
      " 23  measurement_17  12183 non-null  float64\n",
      " 24  failure         12183 non-null  int64  \n",
      "dtypes: float64(16), int32(3), int64(6)\n",
      "memory usage: 2.3 MB\n"
     ]
    }
   ],
   "source": [
    "df.info()"
   ]
  },
  {
   "cell_type": "code",
   "execution_count": 19,
   "id": "9a59d619",
   "metadata": {},
   "outputs": [],
   "source": [
    "X = df.drop(\"failure\",axis = 1)\n",
    "y = df[\"failure\"]"
   ]
  },
  {
   "cell_type": "code",
   "execution_count": 20,
   "id": "44045673",
   "metadata": {},
   "outputs": [],
   "source": [
    "from sklearn.model_selection import train_test_split"
   ]
  },
  {
   "cell_type": "code",
   "execution_count": 21,
   "id": "ff38f1e7",
   "metadata": {},
   "outputs": [],
   "source": [
    "X_train, X_test, y_train, y_test = train_test_split(X,y,test_size=0.2)"
   ]
  },
  {
   "cell_type": "code",
   "execution_count": 22,
   "id": "3e87621b",
   "metadata": {},
   "outputs": [],
   "source": [
    "from sklearn.linear_model import LogisticRegression"
   ]
  },
  {
   "cell_type": "code",
   "execution_count": 23,
   "id": "8342a06e",
   "metadata": {},
   "outputs": [],
   "source": [
    "lr = LogisticRegression()"
   ]
  },
  {
   "cell_type": "code",
   "execution_count": 24,
   "id": "3239e5d0",
   "metadata": {},
   "outputs": [
    {
     "name": "stderr",
     "output_type": "stream",
     "text": [
      "C:\\Users\\nikhi\\anaconda3\\lib\\site-packages\\sklearn\\linear_model\\_logistic.py:763: ConvergenceWarning: lbfgs failed to converge (status=1):\n",
      "STOP: TOTAL NO. of ITERATIONS REACHED LIMIT.\n",
      "\n",
      "Increase the number of iterations (max_iter) or scale the data as shown in:\n",
      "    https://scikit-learn.org/stable/modules/preprocessing.html\n",
      "Please also refer to the documentation for alternative solver options:\n",
      "    https://scikit-learn.org/stable/modules/linear_model.html#logistic-regression\n",
      "  n_iter_i = _check_optimize_result(\n"
     ]
    },
    {
     "data": {
      "text/plain": [
       "LogisticRegression()"
      ]
     },
     "execution_count": 24,
     "metadata": {},
     "output_type": "execute_result"
    }
   ],
   "source": [
    "lr.fit(X_train, y_train)"
   ]
  },
  {
   "cell_type": "code",
   "execution_count": 25,
   "id": "6eb54e0c",
   "metadata": {},
   "outputs": [
    {
     "data": {
      "text/plain": [
       "array([0, 0, 0, ..., 0, 0, 0], dtype=int64)"
      ]
     },
     "execution_count": 25,
     "metadata": {},
     "output_type": "execute_result"
    }
   ],
   "source": [
    "lr.predict(X_test)"
   ]
  },
  {
   "cell_type": "code",
   "execution_count": 26,
   "id": "b2df8a6d",
   "metadata": {},
   "outputs": [
    {
     "data": {
      "text/plain": [
       "0.7935986869101355"
      ]
     },
     "execution_count": 26,
     "metadata": {},
     "output_type": "execute_result"
    }
   ],
   "source": [
    "lr.score(X_test, y_test)"
   ]
  },
  {
   "cell_type": "code",
   "execution_count": 27,
   "id": "1f71fc67",
   "metadata": {},
   "outputs": [],
   "source": [
    "# scores = []\n",
    "# for i in range(1,100):\n",
    "#     X_train, X_test, y_train, y_test = train_test_split(X,y, test_size= 0.2, random_state=i)\n",
    "#     lr.fit(X_train,y_train)\n",
    "#     scores.append(lr.score(X_test, y_test))"
   ]
  },
  {
   "cell_type": "code",
   "execution_count": 28,
   "id": "a11b7fee",
   "metadata": {},
   "outputs": [],
   "source": [
    "# max(scores)"
   ]
  },
  {
   "cell_type": "code",
   "execution_count": 29,
   "id": "7ea00e9c",
   "metadata": {},
   "outputs": [],
   "source": [
    "from sklearn.tree import DecisionTreeClassifier"
   ]
  },
  {
   "cell_type": "code",
   "execution_count": 30,
   "id": "70096741",
   "metadata": {},
   "outputs": [],
   "source": [
    "dc = DecisionTreeClassifier()"
   ]
  },
  {
   "cell_type": "code",
   "execution_count": 31,
   "id": "d3b7585e",
   "metadata": {},
   "outputs": [
    {
     "data": {
      "text/plain": [
       "DecisionTreeClassifier()"
      ]
     },
     "execution_count": 31,
     "metadata": {},
     "output_type": "execute_result"
    }
   ],
   "source": [
    "dc.fit(X_train, y_train)"
   ]
  },
  {
   "cell_type": "code",
   "execution_count": 32,
   "id": "3f3ae75e",
   "metadata": {
    "scrolled": true
   },
   "outputs": [
    {
     "data": {
      "text/plain": [
       "0.6553139105457529"
      ]
     },
     "execution_count": 32,
     "metadata": {},
     "output_type": "execute_result"
    }
   ],
   "source": [
    "dc.score(X_test, y_test)"
   ]
  },
  {
   "cell_type": "code",
   "execution_count": 33,
   "id": "312a6de2",
   "metadata": {},
   "outputs": [
    {
     "data": {
      "text/plain": [
       "0.7935986869101355"
      ]
     },
     "execution_count": 33,
     "metadata": {},
     "output_type": "execute_result"
    }
   ],
   "source": [
    "from sklearn.svm import SVC\n",
    "svcmodel = SVC()\n",
    "svcmodel.fit(X_train, y_train)\n",
    "svcmodel.score(X_test, y_test)"
   ]
  },
  {
   "cell_type": "code",
   "execution_count": 34,
   "id": "cede6a9d",
   "metadata": {},
   "outputs": [
    {
     "data": {
      "text/plain": [
       "0.7882642593352482"
      ]
     },
     "execution_count": 34,
     "metadata": {},
     "output_type": "execute_result"
    }
   ],
   "source": [
    "from sklearn.naive_bayes import GaussianNB\n",
    "naivemodel = GaussianNB()\n",
    "naivemodel.fit(X_train, y_train)\n",
    "naivemodel.score(X_test ,y_test)"
   ]
  },
  {
   "cell_type": "code",
   "execution_count": 35,
   "id": "016a6d93",
   "metadata": {},
   "outputs": [
    {
     "data": {
      "text/plain": [
       "0.7944193680755026"
      ]
     },
     "execution_count": 35,
     "metadata": {},
     "output_type": "execute_result"
    }
   ],
   "source": [
    "from sklearn.ensemble import RandomForestClassifier\n",
    "randommodel = RandomForestClassifier(n_estimators=70)\n",
    "randommodel.fit(X_train, y_train)\n",
    "randommodel.score(X_test, y_test)"
   ]
  },
  {
   "cell_type": "code",
   "execution_count": 36,
   "id": "2a7fa3a7",
   "metadata": {},
   "outputs": [
    {
     "data": {
      "text/plain": [
       "0.7935986869101355"
      ]
     },
     "execution_count": 36,
     "metadata": {},
     "output_type": "execute_result"
    }
   ],
   "source": [
    "from sklearn.svm import SVC\n",
    "model = SVC(kernel=\"rbf\",C=30,gamma=\"auto\")\n",
    "model.fit(X_train,y_train)\n",
    "model.score(X_test,y_test) "
   ]
  },
  {
   "cell_type": "code",
   "execution_count": 37,
   "id": "fa230c14",
   "metadata": {},
   "outputs": [],
   "source": [
    "# from sklearn.model_selection import cross_val_score\n",
    "# kernels=[\"rbf\",\"linear\"]\n",
    "# c=[1,10,20]\n",
    "# avg_scores = {}\n",
    "# for kval in kernels:\n",
    "#     for cval in c:\n",
    "#         cv_scores = cross_val_score(SVC(kernel=kval,C=cval,gamma=\"auto\"),X_train,y_train,cv=5)\n",
    "#         avg_scores[kval + \"_\" + str(cval)] = np.average(cv_scores)\n",
    "\n",
    "# avg_scores"
   ]
  },
  {
   "cell_type": "code",
   "execution_count": 38,
   "id": "07096d70",
   "metadata": {},
   "outputs": [],
   "source": [
    "# from sklearn.model_selection import GridSearchCV\n",
    "# clf =GridSearchCV(SVC(gamma=\"auto\"),{\n",
    "#     \"C\":[1,10,20],\n",
    "#     \"kernel\":[\"rbf\",\"linear\"]\n",
    "# },cv=5,return_train_score=False)\n",
    "\n",
    "# clf.fit(iris.data,iris.target)\n",
    "# clf.cv_results_"
   ]
  },
  {
   "cell_type": "markdown",
   "id": "06bbe0d1",
   "metadata": {},
   "source": [
    "# Test"
   ]
  },
  {
   "cell_type": "code",
   "execution_count": 39,
   "id": "19b1e44d",
   "metadata": {},
   "outputs": [
    {
     "data": {
      "text/html": [
       "<div>\n",
       "<style scoped>\n",
       "    .dataframe tbody tr th:only-of-type {\n",
       "        vertical-align: middle;\n",
       "    }\n",
       "\n",
       "    .dataframe tbody tr th {\n",
       "        vertical-align: top;\n",
       "    }\n",
       "\n",
       "    .dataframe thead th {\n",
       "        text-align: right;\n",
       "    }\n",
       "</style>\n",
       "<table border=\"1\" class=\"dataframe\">\n",
       "  <thead>\n",
       "    <tr style=\"text-align: right;\">\n",
       "      <th></th>\n",
       "      <th>id</th>\n",
       "      <th>product_code</th>\n",
       "      <th>loading</th>\n",
       "      <th>attribute_0</th>\n",
       "      <th>attribute_1</th>\n",
       "      <th>attribute_2</th>\n",
       "      <th>attribute_3</th>\n",
       "      <th>measurement_0</th>\n",
       "      <th>measurement_1</th>\n",
       "      <th>measurement_2</th>\n",
       "      <th>...</th>\n",
       "      <th>measurement_8</th>\n",
       "      <th>measurement_9</th>\n",
       "      <th>measurement_10</th>\n",
       "      <th>measurement_11</th>\n",
       "      <th>measurement_12</th>\n",
       "      <th>measurement_13</th>\n",
       "      <th>measurement_14</th>\n",
       "      <th>measurement_15</th>\n",
       "      <th>measurement_16</th>\n",
       "      <th>measurement_17</th>\n",
       "    </tr>\n",
       "  </thead>\n",
       "  <tbody>\n",
       "    <tr>\n",
       "      <th>0</th>\n",
       "      <td>26570</td>\n",
       "      <td>F</td>\n",
       "      <td>119.57</td>\n",
       "      <td>material_5</td>\n",
       "      <td>material_6</td>\n",
       "      <td>6</td>\n",
       "      <td>4</td>\n",
       "      <td>6</td>\n",
       "      <td>9</td>\n",
       "      <td>6</td>\n",
       "      <td>...</td>\n",
       "      <td>18.654</td>\n",
       "      <td>10.802</td>\n",
       "      <td>15.909</td>\n",
       "      <td>18.070</td>\n",
       "      <td>13.772</td>\n",
       "      <td>13.659</td>\n",
       "      <td>16.825</td>\n",
       "      <td>13.742</td>\n",
       "      <td>17.710</td>\n",
       "      <td>634.612</td>\n",
       "    </tr>\n",
       "    <tr>\n",
       "      <th>1</th>\n",
       "      <td>26571</td>\n",
       "      <td>F</td>\n",
       "      <td>113.51</td>\n",
       "      <td>material_5</td>\n",
       "      <td>material_6</td>\n",
       "      <td>6</td>\n",
       "      <td>4</td>\n",
       "      <td>11</td>\n",
       "      <td>8</td>\n",
       "      <td>0</td>\n",
       "      <td>...</td>\n",
       "      <td>19.368</td>\n",
       "      <td>12.032</td>\n",
       "      <td>13.998</td>\n",
       "      <td>NaN</td>\n",
       "      <td>12.473</td>\n",
       "      <td>17.468</td>\n",
       "      <td>16.708</td>\n",
       "      <td>14.776</td>\n",
       "      <td>14.102</td>\n",
       "      <td>537.037</td>\n",
       "    </tr>\n",
       "    <tr>\n",
       "      <th>2</th>\n",
       "      <td>26572</td>\n",
       "      <td>F</td>\n",
       "      <td>112.16</td>\n",
       "      <td>material_5</td>\n",
       "      <td>material_6</td>\n",
       "      <td>6</td>\n",
       "      <td>4</td>\n",
       "      <td>8</td>\n",
       "      <td>12</td>\n",
       "      <td>4</td>\n",
       "      <td>...</td>\n",
       "      <td>17.774</td>\n",
       "      <td>11.743</td>\n",
       "      <td>17.046</td>\n",
       "      <td>18.086</td>\n",
       "      <td>10.907</td>\n",
       "      <td>13.363</td>\n",
       "      <td>15.737</td>\n",
       "      <td>17.065</td>\n",
       "      <td>16.021</td>\n",
       "      <td>658.995</td>\n",
       "    </tr>\n",
       "    <tr>\n",
       "      <th>3</th>\n",
       "      <td>26573</td>\n",
       "      <td>F</td>\n",
       "      <td>112.72</td>\n",
       "      <td>material_5</td>\n",
       "      <td>material_6</td>\n",
       "      <td>6</td>\n",
       "      <td>4</td>\n",
       "      <td>8</td>\n",
       "      <td>11</td>\n",
       "      <td>10</td>\n",
       "      <td>...</td>\n",
       "      <td>18.948</td>\n",
       "      <td>11.790</td>\n",
       "      <td>18.165</td>\n",
       "      <td>16.163</td>\n",
       "      <td>10.933</td>\n",
       "      <td>15.501</td>\n",
       "      <td>15.667</td>\n",
       "      <td>12.620</td>\n",
       "      <td>16.111</td>\n",
       "      <td>594.301</td>\n",
       "    </tr>\n",
       "    <tr>\n",
       "      <th>4</th>\n",
       "      <td>26574</td>\n",
       "      <td>F</td>\n",
       "      <td>208.00</td>\n",
       "      <td>material_5</td>\n",
       "      <td>material_6</td>\n",
       "      <td>6</td>\n",
       "      <td>4</td>\n",
       "      <td>14</td>\n",
       "      <td>16</td>\n",
       "      <td>8</td>\n",
       "      <td>...</td>\n",
       "      <td>19.141</td>\n",
       "      <td>12.370</td>\n",
       "      <td>14.578</td>\n",
       "      <td>17.849</td>\n",
       "      <td>11.941</td>\n",
       "      <td>16.070</td>\n",
       "      <td>16.183</td>\n",
       "      <td>13.324</td>\n",
       "      <td>17.150</td>\n",
       "      <td>801.044</td>\n",
       "    </tr>\n",
       "  </tbody>\n",
       "</table>\n",
       "<p>5 rows × 25 columns</p>\n",
       "</div>"
      ],
      "text/plain": [
       "      id product_code  loading attribute_0 attribute_1  attribute_2  \\\n",
       "0  26570            F   119.57  material_5  material_6            6   \n",
       "1  26571            F   113.51  material_5  material_6            6   \n",
       "2  26572            F   112.16  material_5  material_6            6   \n",
       "3  26573            F   112.72  material_5  material_6            6   \n",
       "4  26574            F   208.00  material_5  material_6            6   \n",
       "\n",
       "   attribute_3  measurement_0  measurement_1  measurement_2  ...  \\\n",
       "0            4              6              9              6  ...   \n",
       "1            4             11              8              0  ...   \n",
       "2            4              8             12              4  ...   \n",
       "3            4              8             11             10  ...   \n",
       "4            4             14             16              8  ...   \n",
       "\n",
       "   measurement_8  measurement_9  measurement_10  measurement_11  \\\n",
       "0         18.654         10.802          15.909          18.070   \n",
       "1         19.368         12.032          13.998             NaN   \n",
       "2         17.774         11.743          17.046          18.086   \n",
       "3         18.948         11.790          18.165          16.163   \n",
       "4         19.141         12.370          14.578          17.849   \n",
       "\n",
       "   measurement_12  measurement_13  measurement_14  measurement_15  \\\n",
       "0          13.772          13.659          16.825          13.742   \n",
       "1          12.473          17.468          16.708          14.776   \n",
       "2          10.907          13.363          15.737          17.065   \n",
       "3          10.933          15.501          15.667          12.620   \n",
       "4          11.941          16.070          16.183          13.324   \n",
       "\n",
       "   measurement_16  measurement_17  \n",
       "0          17.710         634.612  \n",
       "1          14.102         537.037  \n",
       "2          16.021         658.995  \n",
       "3          16.111         594.301  \n",
       "4          17.150         801.044  \n",
       "\n",
       "[5 rows x 25 columns]"
      ]
     },
     "execution_count": 39,
     "metadata": {},
     "output_type": "execute_result"
    }
   ],
   "source": [
    "test_df = pd.read_csv(\"test.csv\")\n",
    "test_df.head()"
   ]
  },
  {
   "cell_type": "code",
   "execution_count": 40,
   "id": "4d9cb1ef",
   "metadata": {},
   "outputs": [
    {
     "name": "stdout",
     "output_type": "stream",
     "text": [
      "<class 'pandas.core.frame.DataFrame'>\n",
      "RangeIndex: 20775 entries, 0 to 20774\n",
      "Data columns (total 25 columns):\n",
      " #   Column          Non-Null Count  Dtype  \n",
      "---  ------          --------------  -----  \n",
      " 0   id              20775 non-null  int64  \n",
      " 1   product_code    20775 non-null  object \n",
      " 2   loading         20552 non-null  float64\n",
      " 3   attribute_0     20775 non-null  object \n",
      " 4   attribute_1     20775 non-null  object \n",
      " 5   attribute_2     20775 non-null  int64  \n",
      " 6   attribute_3     20775 non-null  int64  \n",
      " 7   measurement_0   20775 non-null  int64  \n",
      " 8   measurement_1   20775 non-null  int64  \n",
      " 9   measurement_2   20775 non-null  int64  \n",
      " 10  measurement_3   20446 non-null  float64\n",
      " 11  measurement_4   20366 non-null  float64\n",
      " 12  measurement_5   20267 non-null  float64\n",
      " 13  measurement_6   20151 non-null  float64\n",
      " 14  measurement_7   20055 non-null  float64\n",
      " 15  measurement_8   19929 non-null  float64\n",
      " 16  measurement_9   19871 non-null  float64\n",
      " 17  measurement_10  19708 non-null  float64\n",
      " 18  measurement_11  19639 non-null  float64\n",
      " 19  measurement_12  19535 non-null  float64\n",
      " 20  measurement_13  19472 non-null  float64\n",
      " 21  measurement_14  19335 non-null  float64\n",
      " 22  measurement_15  19233 non-null  float64\n",
      " 23  measurement_16  19097 non-null  float64\n",
      " 24  measurement_17  19035 non-null  float64\n",
      "dtypes: float64(16), int64(6), object(3)\n",
      "memory usage: 4.0+ MB\n"
     ]
    }
   ],
   "source": [
    "test_df.info()"
   ]
  },
  {
   "cell_type": "code",
   "execution_count": 43,
   "id": "3eef507c",
   "metadata": {},
   "outputs": [
    {
     "data": {
      "text/plain": [
       "(20775, 25)"
      ]
     },
     "execution_count": 43,
     "metadata": {},
     "output_type": "execute_result"
    }
   ],
   "source": [
    "test_df.shape"
   ]
  },
  {
   "cell_type": "code",
   "execution_count": 46,
   "id": "369d949d",
   "metadata": {},
   "outputs": [
    {
     "data": {
      "text/plain": [
       "(9590, 25)"
      ]
     },
     "execution_count": 46,
     "metadata": {},
     "output_type": "execute_result"
    }
   ],
   "source": [
    "test_df = test_df.dropna()\n",
    "test_df.shape"
   ]
  },
  {
   "cell_type": "code",
   "execution_count": 47,
   "id": "489ce12d",
   "metadata": {},
   "outputs": [
    {
     "data": {
      "text/plain": [
       "array([14, 13,  9,  4,  7,  6, 10, 21, 11,  8, 15, 18, 19, 16, 12,  3, 17,\n",
       "        1, 23,  5, 26, 24,  2, 20,  0, 25, 22], dtype=int64)"
      ]
     },
     "execution_count": 47,
     "metadata": {},
     "output_type": "execute_result"
    }
   ],
   "source": []
  },
  {
   "cell_type": "code",
   "execution_count": null,
   "id": "7541e11f",
   "metadata": {},
   "outputs": [],
   "source": []
  }
 ],
 "metadata": {
  "kernelspec": {
   "display_name": "Python 3 (ipykernel)",
   "language": "python",
   "name": "python3"
  },
  "language_info": {
   "codemirror_mode": {
    "name": "ipython",
    "version": 3
   },
   "file_extension": ".py",
   "mimetype": "text/x-python",
   "name": "python",
   "nbconvert_exporter": "python",
   "pygments_lexer": "ipython3",
   "version": "3.9.7"
  }
 },
 "nbformat": 4,
 "nbformat_minor": 5
}
